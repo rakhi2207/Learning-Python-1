{
 "cells": [
  {
   "cell_type": "markdown",
   "metadata": {},
   "source": [
    "## Lab-2 Programming constructs in python -hands-on practice"
   ]
  },
  {
   "cell_type": "code",
   "execution_count": null,
   "metadata": {
    "scrolled": true
   },
   "outputs": [],
   "source": [
    "#Q1:Check whether a number is even or odd\n",
    "print(\"enter a number to check even or odd\")\n",
    "num=int(input())\n",
    "# you can also give directly the nmber as num=2\n",
    "if num%2==0:\n",
    "    print (\"even\")\n",
    "else:\n",
    "    print (\"odd\")"
   ]
  },
  {
   "cell_type": "code",
   "execution_count": null,
   "metadata": {
    "scrolled": true
   },
   "outputs": [],
   "source": [
    "#Q2: Check whether an entered year is leap year or not.\n",
    "# Note: year is a leap year when remainder is 0 when divided by 4, 100 and 400 completly\n",
    "print(\"enter a year to check leap or not\")\n",
    "num=int(input()) \n",
    "if num%4==0:\n",
    "    if num%100==0:\n",
    "        if num%400==0:\n",
    "            print(\"leap\")\n",
    "        else:\n",
    "            print(\"not leap\")\n",
    "    else:\n",
    "        print(\"not leap\")\n",
    "else: \n",
    "    print(\"not leap\")\n"
   ]
  },
  {
   "cell_type": "code",
   "execution_count": null,
   "metadata": {
    "scrolled": true
   },
   "outputs": [],
   "source": [
    "#Q3: Write a program to check whether a character is vowel or consonants.\n",
    "print(\"enter a charater to check vowel or consonant\")\n",
    "inp=input() \n",
    "if inp=='A'or inp=='a'or inp=='E'or inp=='e'or inp=='I'or inp=='i'or inp=='o'or inp=='O' or inp=='U'or inp=='u':\n",
    "    print(\"character \",inp,\" is vowel\")\n",
    "else:\n",
    "    print(\"charater \" ,inp,\" is consonant\")\n"
   ]
  },
  {
   "cell_type": "code",
   "execution_count": null,
   "metadata": {
    "scrolled": true
   },
   "outputs": [],
   "source": [
    "#Q4:Write a program to find the smallest of two numbers.\n",
    "print(\"enter two number \")\n",
    "num1=int(input())\n",
    "num2=int(input())\n",
    "if num1>num2:\n",
    "    print(num1,\" is greater than \",num2)\n",
    "elif num2>num1:\n",
    "    print(num2, \"is greater than \",num1)\n",
    "else: \n",
    "    print (\"check your input\")"
   ]
  },
  {
   "cell_type": "code",
   "execution_count": null,
   "metadata": {
    "scrolled": true
   },
   "outputs": [],
   "source": [
    "#Q5: Find the Factorial of a Number\n",
    "print(\"enter a number \")\n",
    "num1=int(input())\n",
    "fact=1\n",
    "if num1<0:\n",
    "    print(\"factorial does not exist\")\n",
    "elif num1==0:\n",
    "    print (\"factorial of \" , num1,\" is 0\")\n",
    "else:\n",
    "    for i in range(1,num1+1):\n",
    "        fact=fact*i\n",
    "print(\"factorial of \",num1,\" is\",fact)"
   ]
  },
  {
   "cell_type": "code",
   "execution_count": 1,
   "metadata": {
    "scrolled": true
   },
   "outputs": [
    {
     "name": "stdout",
     "output_type": "stream",
     "text": [
      "1 1 2 3 5 8 13 "
     ]
    }
   ],
   "source": [
    "#Q6: Write a program to print this series\n",
    "   #          1 1 2 3 5 8 13 \n",
    "\n",
    "a=1\n",
    "b=1\n",
    "i=0\n",
    "print (a, b, end=\" \")\n",
    "while i<5:\n",
    "    c=a+b\n",
    "    print (c, end= \" \")\n",
    "    a=b\n",
    "    b=c\n",
    "    i=i+1"
   ]
  },
  {
   "cell_type": "code",
   "execution_count": null,
   "metadata": {
    "scrolled": true
   },
   "outputs": [],
   "source": [
    "#Q7:Check whether a number is prime or not\n",
    "count=0\n",
    "print(\"enter a number \")\n",
    "num1=int(input())\n",
    "for i in range (2,num1):\n",
    "    \n",
    "    if num1%i==0:\n",
    "        count==0\n",
    "      \n",
    "    else:\n",
    "        count==1\n",
    "            \n",
    "if count==0:\n",
    "    print(num1, \" is not prime\")\n",
    "else:\n",
    "    print(num1, \" is prime\")\n"
   ]
  },
  {
   "cell_type": "code",
   "execution_count": null,
   "metadata": {},
   "outputs": [],
   "source": [
    "#Q8. Make a Simple Calculator.\n",
    "def add(x,y):\n",
    "    return x+y\n",
    "def sub(x,y):\n",
    "    return x-y\n",
    "def mul(x,y):\n",
    "    return x*y\n",
    "def div(x,y):\n",
    "    return x/y\n",
    "print(\"enter first number\")\n",
    "num1=int(input())\n",
    "print(\"enter second number\")\n",
    "num2=int(input())\n",
    "print (\"enter a number 1:add, 2:sub, 3:mul, 4:div\")\n",
    "choice=int(input())\n",
    "if choice==1:\n",
    "    print(\"the result of addition is \",add(num1,num2))\n",
    "elif choice==2:\n",
    "    print(\"the result of subtraction is \",sub(num1,num2))\n",
    "elif choice==3:\n",
    "    print(\"the result of multiplication is \", mul(num1,num2))\n",
    "elif choice==4:\n",
    "    print(\"the result of division is \", div(num1,num2))\n",
    "else:\n",
    "    print(\"invalid choice\")"
   ]
  }
 ],
 "metadata": {
  "kernelspec": {
   "display_name": "Python 3",
   "language": "python",
   "name": "python3"
  },
  "language_info": {
   "codemirror_mode": {
    "name": "ipython",
    "version": 3
   },
   "file_extension": ".py",
   "mimetype": "text/x-python",
   "name": "python",
   "nbconvert_exporter": "python",
   "pygments_lexer": "ipython3",
   "version": "3.7.7"
  }
 },
 "nbformat": 4,
 "nbformat_minor": 2
}
