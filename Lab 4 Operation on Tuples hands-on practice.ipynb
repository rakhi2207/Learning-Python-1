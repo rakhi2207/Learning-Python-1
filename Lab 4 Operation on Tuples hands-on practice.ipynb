{
 "cells": [
  {
   "cell_type": "markdown",
   "metadata": {},
   "source": [
    "### Lab 4: Operation on Tuples and List: hands-on practice"
   ]
  },
  {
   "cell_type": "code",
   "execution_count": null,
   "metadata": {
    "scrolled": true
   },
   "outputs": [],
   "source": [
    "#Q1. Write a Python program to create a tuple\n",
    "tup1=(\"a\",\"b\",\"c\")"
   ]
  },
  {
   "cell_type": "code",
   "execution_count": null,
   "metadata": {
    "scrolled": true
   },
   "outputs": [],
   "source": [
    "#Q2 Write a Python program to create a tuple with different data types.  \n",
    "tup=(1,2,\"w\",False)\n",
    "tup"
   ]
  },
  {
   "cell_type": "code",
   "execution_count": null,
   "metadata": {
    "scrolled": true
   },
   "outputs": [],
   "source": [
    "#Q3:Write a Python program to create a tuple with numbers and print one item.  \n",
    "tup2=(10,20,30)\n",
    "print(tup2[1])"
   ]
  },
  {
   "cell_type": "code",
   "execution_count": null,
   "metadata": {
    "scrolled": true
   },
   "outputs": [],
   "source": [
    "#Q4:Write a Python program to unpack a tuple in several variables.  \n",
    "var1=tup2[0]\n",
    "var2=tup2[1]\n",
    "var3=tup2[2]\n",
    "print(var1,\"\",var2,\"\",var3)"
   ]
  },
  {
   "cell_type": "code",
   "execution_count": null,
   "metadata": {
    "scrolled": true
   },
   "outputs": [],
   "source": [
    "#Q4: OR\n",
    "var1,var2,var3=tup2\n",
    "print(var1,\"\",var2,\"\",var3)"
   ]
  },
  {
   "cell_type": "code",
   "execution_count": null,
   "metadata": {
    "scrolled": true
   },
   "outputs": [],
   "source": [
    "#Q5: Write a Python program to add an item in a tuple.  \n",
    "tup3=tup2+(9,)\n",
    "print (tup3)\n",
    "\n",
    "#you can add item using slicing as well\n",
    "tup4=tup2[0:5]+(1,2)\n",
    "print (tup4)\n",
    "\n",
    "# or you can change tuple to list and then to a tuple again\n",
    "list1=list(tup2)\n",
    "list1.append(50)\n",
    "tup5=tuple(list1)\n",
    "print (tup5)"
   ]
  },
  {
   "cell_type": "code",
   "execution_count": null,
   "metadata": {
    "scrolled": true
   },
   "outputs": [],
   "source": [
    "#Q6:Write a Python program to convert a tuple to a string.  \n",
    "\n",
    "tup1=(\"a\",\"b\",\"c\",\"d\")\n",
    "str=''.join(tup1)\n",
    "str"
   ]
  },
  {
   "cell_type": "code",
   "execution_count": null,
   "metadata": {
    "scrolled": true
   },
   "outputs": [],
   "source": [
    "#Q7:Write a Python program to get the 4th element and 4th element from last of a tuple\n",
    "tup1=(1,2,3,4,5,6,7,8,9,10)\n",
    "print(tup1[3])\n",
    "print(tup1[-4])"
   ]
  },
  {
   "cell_type": "code",
   "execution_count": null,
   "metadata": {
    "scrolled": true
   },
   "outputs": [],
   "source": [
    "#8. Write a Python program to find the repeated items of a tuple.  \n",
    "tup1=(1,1,3,4,5,1,7,8,9,10)\n",
    "count=tup1.count(1)\n",
    "print(count)"
   ]
  },
  {
   "cell_type": "code",
   "execution_count": null,
   "metadata": {
    "scrolled": true
   },
   "outputs": [],
   "source": [
    "#9. Write a Python program to check whether an element exists within a tuple.  \n",
    "if 4 in tup1:\n",
    "    print(\"true\")\n",
    "else :\n",
    "    print(\"false\")"
   ]
  },
  {
   "cell_type": "code",
   "execution_count": null,
   "metadata": {
    "scrolled": true
   },
   "outputs": [],
   "source": [
    "#10. Write a Python program to convert a list to a tuple.  \n",
    "list1=[1,2,3,4]\n",
    "tuple1=tuple(list1)\n",
    "print(tuple1)"
   ]
  },
  {
   "cell_type": "code",
   "execution_count": null,
   "metadata": {
    "scrolled": true
   },
   "outputs": [],
   "source": [
    "#11. Write a Python program to remove an item from a tuple\n",
    "tuple1=(1,2,3,4)\n",
    "list1=list(tuple1)\n",
    "list1.remove(4)\n",
    "tup1=tuple(list1)\n",
    "print(tup1)"
   ]
  },
  {
   "cell_type": "code",
   "execution_count": null,
   "metadata": {
    "scrolled": true
   },
   "outputs": [],
   "source": [
    "#12. Write a Python program to slice a tuple \n",
    "#You can use slicing to remove an item from tuple\n",
    "#You can either use slicing or convert it to a list\n",
    "# removing 3 from tuple1\n",
    "tuple1=(1,2,3,4)\n",
    "new_tup=tuple1[0:2]+tuple1[3:]\n",
    "print(new_tup)"
   ]
  },
  {
   "cell_type": "code",
   "execution_count": null,
   "metadata": {
    "scrolled": true
   },
   "outputs": [],
   "source": [
    "#13. Write a Python program to find the index of an item of a tuple.  \n",
    "tup1=(10,20,30,40,50,60)\n",
    "print(tup1.index(40))"
   ]
  },
  {
   "cell_type": "code",
   "execution_count": null,
   "metadata": {
    "scrolled": true
   },
   "outputs": [],
   "source": [
    "#14. Write a Python program to find the length of a tuple.  \n",
    "tup1=(10,20,30,40,50,60)\n",
    "print(len(tup1))"
   ]
  },
  {
   "cell_type": "code",
   "execution_count": null,
   "metadata": {
    "scrolled": true
   },
   "outputs": [],
   "source": [
    "#15. Write a Python program to reverse a tuple. \n",
    "tup1=(10,20,30,40,50,60)\n",
    "tup2=reversed(tup1)\n",
    "print(tuple(tup2))"
   ]
  }
 ],
 "metadata": {
  "kernelspec": {
   "display_name": "Python 3",
   "language": "python",
   "name": "python3"
  },
  "language_info": {
   "codemirror_mode": {
    "name": "ipython",
    "version": 3
   },
   "file_extension": ".py",
   "mimetype": "text/x-python",
   "name": "python",
   "nbconvert_exporter": "python",
   "pygments_lexer": "ipython3",
   "version": "3.7.7"
  }
 },
 "nbformat": 4,
 "nbformat_minor": 2
}
