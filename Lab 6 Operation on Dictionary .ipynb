{
 "cells": [
  {
   "cell_type": "markdown",
   "metadata": {},
   "source": [
    "### Lab 6: Operation on Dictionary\n",
    "Students are advised to perform lab exercise after learning the concepts of dictionary in this worksheet\n"
   ]
  },
  {
   "cell_type": "code",
   "execution_count": null,
   "metadata": {},
   "outputs": [],
   "source": [
    "#creating empty Dictionary"
   ]
  },
  {
   "cell_type": "code",
   "execution_count": null,
   "metadata": {},
   "outputs": [],
   "source": [
    "#printing a dictionary\n",
    "cl={\"a\":42,\"b\":30,\"c\":30}\n",
    "print(cl)"
   ]
  },
  {
   "cell_type": "code",
   "execution_count": null,
   "metadata": {},
   "outputs": [],
   "source": [
    "#displaying ll the items of dictionary using items() fucntion\n",
    "dict1={1001:\"bharti\",1002:\"shailja\",1003:\"Ram\"}\n",
    "print(dict1.items())\n",
    "\n"
   ]
  },
  {
   "cell_type": "code",
   "execution_count": null,
   "metadata": {},
   "outputs": [],
   "source": [
    "#deleting an element in a dictionary at a particular index\n",
    "dict1={1001:\"bharti\",1002:\"shailja\",1003:\"Ram\"}\n",
    "del dict1[1001]\n",
    "print(dict1.items())"
   ]
  },
  {
   "cell_type": "code",
   "execution_count": null,
   "metadata": {},
   "outputs": [],
   "source": [
    "# learning to implement for loop in a dictionary\n",
    "# checking if an item is present in a dictionary\n",
    "dict1={1001:\"bharti\",1002:\"shailja\",1003:\"Ram\"}\n",
    "for key,value in dict1.items():\n",
    "    print(key,value)\n",
    "if 1001 in dict1:\n",
    "    print(\"1001 in dict\")\n",
    "else:\n",
    "    print(\"not valid\")"
   ]
  },
  {
   "cell_type": "code",
   "execution_count": null,
   "metadata": {},
   "outputs": [],
   "source": [
    "### changing values of key\n",
    "dict1[1001]=\"x\"\n",
    "print(dict1)"
   ]
  },
  {
   "cell_type": "markdown",
   "metadata": {},
   "source": []
  },
  {
   "cell_type": "code",
   "execution_count": null,
   "metadata": {},
   "outputs": [],
   "source": [
    "# to comapre two dictionary use function cmp()\n",
    "dict2={1001:\"x\",1002:\"shailja\",1003:\"Ram\"}\n",
    "cmp(dict1,dict2)"
   ]
  },
  {
   "cell_type": "code",
   "execution_count": null,
   "metadata": {},
   "outputs": [],
   "source": [
    "# printing a square of key's using a loop\n",
    "dict1={}\n",
    "for key in range(1,11):\n",
    "dict1[key]=key*key\n",
    "    print(dict1)"
   ]
  },
  {
   "cell_type": "code",
   "execution_count": null,
   "metadata": {},
   "outputs": [],
   "source": [
    "# nested dictionary\n",
    "dict1={\"a\":1}\n",
    "dict2={1:\"abc\"}\n",
    "dict3={\"a\":16,2:\"def\"}\n",
    "dict4={\"c\":17}\n",
    "dict33={\"A\":1,1:\"ABC\",5:{\"A\":16,2:\"DEF\"},\"c\":17}\n",
    "print(dict33)\n",
    "\n"
   ]
  },
  {
   "cell_type": "code",
   "execution_count": null,
   "metadata": {},
   "outputs": [],
   "source": [
    "# using loop to add multiple dictionary into a new one\n",
    "dict1={\"a\":1}\n",
    "dict2={1:\"abc\"}\n",
    "dict3={\"a\":16,2:\"def\"}\n",
    "d4={}\n",
    "for d in (dict1,dict2,dict3):\n",
    "    d4.update(d)\n",
    "    print(d4)"
   ]
  },
  {
   "cell_type": "code",
   "execution_count": null,
   "metadata": {},
   "outputs": [],
   "source": [
    "# finding sum total of all the values in a dictionary\n",
    "dict1={}\n",
    "for key in range(1,11):\n",
    "    dict1[key]=key*key\n",
    "    print(dict1)\n",
    "sum(dict1)"
   ]
  },
  {
   "cell_type": "code",
   "execution_count": null,
   "metadata": {},
   "outputs": [],
   "source": []
  }
 ],
 "metadata": {
  "kernelspec": {
   "display_name": "Python 3",
   "language": "python",
   "name": "python3"
  },
  "language_info": {
   "codemirror_mode": {
    "name": "ipython",
    "version": 3
   },
   "file_extension": ".py",
   "mimetype": "text/x-python",
   "name": "python",
   "nbconvert_exporter": "python",
   "pygments_lexer": "ipython3",
   "version": "3.7.7"
  }
 },
 "nbformat": 4,
 "nbformat_minor": 2
}
