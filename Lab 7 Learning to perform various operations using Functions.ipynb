{
 "cells": [
  {
   "cell_type": "markdown",
   "metadata": {},
   "source": [
    "### Lab-7: Learning Functions\n"
   ]
  },
  {
   "cell_type": "code",
   "execution_count": null,
   "metadata": {},
   "outputs": [],
   "source": [
    "# 1.\tWrite a program to multiply two numbers using functions.\n",
    "def mul(a,b):\n",
    "    c=a*b\n",
    "    return(c)\n",
    "\n",
    "a=int(input(\"num1\"))\n",
    "b=int(input(\"num2\"))\n",
    "c=mul(a,b)\n",
    "print (c)\n",
    "\n"
   ]
  },
  {
   "cell_type": "code",
   "execution_count": null,
   "metadata": {},
   "outputs": [],
   "source": [
    "# 2.\tWrite a program to add two numbers using functions.\n",
    "def add(a,b):\n",
    "    c=a+b\n",
    "    return(c)\n",
    "\n",
    "a=int(input(\"num1\"))\n",
    "b=int(input(\"num2\"))\n",
    "c=add(a,b)\n",
    "print (c)\n",
    "\n",
    "\n"
   ]
  },
  {
   "cell_type": "code",
   "execution_count": null,
   "metadata": {},
   "outputs": [],
   "source": [
    "#3.\tCalculate factorial of a number using function.\n",
    "def fact(n):\n",
    "    fact=1;\n",
    "    for i in range(n,0,-1):\n",
    "        fact=fact*i\n",
    "    return (fact)\n",
    "a=int(input())\n",
    "b=fact(a)\n",
    "print(b) \n",
    "\n",
    "    \n",
    "    "
   ]
  },
  {
   "cell_type": "code",
   "execution_count": null,
   "metadata": {},
   "outputs": [],
   "source": [
    "#4.\tCreate sequence of Fibonacci using function.\n",
    "def fibonacci(n):\n",
    "    k=1\n",
    "    a=1\n",
    "    b=1\n",
    "    print(a, end=\" \")\n",
    "    print(b, end=\" \")\n",
    "    while(k<=n):\n",
    "        if n==1:\n",
    "            return(0)\n",
    "        elif n==2:\n",
    "            return(1)\n",
    "        else:\n",
    "            c=a+b\n",
    "            print(c,end=\" \")\n",
    "            a=b\n",
    "            b=c\n",
    "            k=k+1\n",
    "            \n",
    "a=int(input())\n",
    "fibonacci(a)\n",
    "\n"
   ]
  },
  {
   "cell_type": "code",
   "execution_count": null,
   "metadata": {},
   "outputs": [],
   "source": [
    "#5.\tWrite a program to swapping of two numbers using functions.\n",
    "a=int(input())\n",
    "b=int(input())\n",
    "def swap(m,n):\n",
    "    temp=m\n",
    "    m=n\n",
    "    n=temp\n",
    "    return(m,n)\n",
    "result=swap(a,b)\n",
    "print(result)\n",
    "\n",
    "\n",
    "\n",
    "\n",
    "\n"
   ]
  },
  {
   "cell_type": "code",
   "execution_count": null,
   "metadata": {},
   "outputs": [],
   "source": [
    "#6.\tWrite a function to find the HCF of some given numbers.\n",
    "def compute_hcf(x, y):\n",
    "    if x > y:\n",
    "        smaller = y\n",
    "    else:\n",
    "        smaller = x\n",
    "    for i in range(1, smaller+1):\n",
    "        if((x % i == 0) and (y % i == 0)):\n",
    "            hcf = i \n",
    "    return hcf\n",
    "\n",
    "num1 = int(input(\" Please Enter the First Number : \")) \n",
    "num2 = int(input(\" Please Enter the Second Number : \"))\n",
    "\n",
    "print(\"The H.C.F. is\", compute_hcf(num1, num2))"
   ]
  },
  {
   "cell_type": "code",
   "execution_count": null,
   "metadata": {},
   "outputs": [],
   "source": [
    "#7.\tWrite a function to find the ASCII value of the character.\n",
    "c = (input(\" Please Enter the Alphabet : \")) \n",
    "print(\"The ASCII value of '\" + c + \"' is\", ord(c)) "
   ]
  },
  {
   "cell_type": "code",
   "execution_count": null,
   "metadata": {},
   "outputs": [],
   "source": [
    "#8.\tWrite a program that demonstrates the (built in function) mathematical functions.\n",
    "abs(-7)"
   ]
  },
  {
   "cell_type": "code",
   "execution_count": null,
   "metadata": {},
   "outputs": [],
   "source": [
    "#9.\tWrite a program that demonstrates the (built in function) Date & Time functions.\n",
    "import datetime \n",
    "from datetime import date  \n",
    "print (\"Present date is : \",end=\"\") \n",
    "print (date.today()) "
   ]
  },
  {
   "cell_type": "code",
   "execution_count": null,
   "metadata": {},
   "outputs": [],
   "source": [
    "#10.\tWrite a program that demonstrates Required arguments.\n",
    "def printme( str ):\n",
    "   \"This prints a passed string into this function\"\n",
    "   print (str)\n",
    "   return;\n",
    "\n",
    "# Now you can call printme function\n",
    "printme(\"calling function 1st time\")\n",
    "printme(\"calling function 2nd time\")"
   ]
  },
  {
   "cell_type": "code",
   "execution_count": null,
   "metadata": {},
   "outputs": [],
   "source": [
    "# 11.\tWrite a program that demonstrates keyword arguments.\n",
    "def student(firstname, lastname):  \n",
    "     print(firstname, lastname)  \n",
    "    \n",
    "    \n",
    "# Keyword arguments                   \n",
    "student(firstname ='student1', lastname ='stdent1_ln')     \n",
    "student(lastname ='student2_ln', firstname ='Student1')"
   ]
  },
  {
   "cell_type": "code",
   "execution_count": null,
   "metadata": {},
   "outputs": [],
   "source": [
    " # 12.\tWrite a program that demonstrates Default arguments.\n",
    "def myFun(x, y=500): \n",
    "    print(\"x: \", x) \n",
    "    print(\"y: \", y) \n",
    "  \n",
    "myFun(100) "
   ]
  },
  {
   "cell_type": "code",
   "execution_count": null,
   "metadata": {},
   "outputs": [],
   "source": [
    "# 13.\tWrite a program that demonstrates Variable –length arguments.  \n",
    "# *args for variable number of arguments \n",
    "def myFun(*argv):  \n",
    "    for arg in argv:  \n",
    "        print (arg) \n",
    "    \n",
    "myFun('lab', 'exercise', 'for', 'python')"
   ]
  },
  {
   "cell_type": "code",
   "execution_count": null,
   "metadata": {},
   "outputs": [],
   "source": []
  }
 ],
 "metadata": {
  "kernelspec": {
   "display_name": "Python 3",
   "language": "python",
   "name": "python3"
  },
  "language_info": {
   "codemirror_mode": {
    "name": "ipython",
    "version": 3
   },
   "file_extension": ".py",
   "mimetype": "text/x-python",
   "name": "python",
   "nbconvert_exporter": "python",
   "pygments_lexer": "ipython3",
   "version": "3.7.7"
  }
 },
 "nbformat": 4,
 "nbformat_minor": 2
}
