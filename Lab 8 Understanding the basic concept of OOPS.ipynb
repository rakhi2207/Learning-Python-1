{
 "cells": [
  {
   "cell_type": "markdown",
   "metadata": {},
   "source": [
    "### Lab 8 Understanding the basic concept of OOPS\n",
    "students are advised to solve lab manual after understanding the concept taught in this notebook"
   ]
  },
  {
   "cell_type": "code",
   "execution_count": null,
   "metadata": {},
   "outputs": [],
   "source": [
    "# to create class and function. Create an object of class as well\n",
    "class ABC:\n",
    "    var=\"we are learning to make class\"\n",
    "    \n",
    "    def func1(self):\n",
    "        print(self.var)\n",
    "        \n",
    "ob1=ABC()\n",
    "\n"
   ]
  },
  {
   "cell_type": "code",
   "execution_count": null,
   "metadata": {},
   "outputs": [],
   "source": [
    "# calling a function of a class using object\n",
    "ob1.func1()"
   ]
  },
  {
   "cell_type": "code",
   "execution_count": null,
   "metadata": {},
   "outputs": [],
   "source": [
    "# displaying variable value of a class using object\n",
    "ob1.var"
   ]
  },
  {
   "cell_type": "code",
   "execution_count": null,
   "metadata": {},
   "outputs": [],
   "source": [
    "# printing varibale prints the value and do not show the datatype of variable\n",
    "print( ob1.var)"
   ]
  },
  {
   "cell_type": "code",
   "execution_count": null,
   "metadata": {},
   "outputs": [],
   "source": [
    "#Exercise: create a class Student and input the values of the varibale\n",
    "# Learn to print a function value that is returned by a function\n",
    "class Student:\n",
    "    name=\"\"\n",
    "    rollno=\"\"\n",
    "    marks=100\n",
    "    def basic_profile(self):\n",
    "        return (self.name,self.rollno, self.marks)\n",
    "\n",
    "stu1=Student()\n",
    "stu1.name=\"abc\"\n",
    "stu1.rollno=\"2k19csun1099\"\n",
    "stu1.marks=200\n",
    "print(stu1.basic_profile())\n",
    "\n",
    "k=stu1.basic_profile()\n",
    "print(k)\n",
    "\n"
   ]
  },
  {
   "cell_type": "code",
   "execution_count": null,
   "metadata": {},
   "outputs": [],
   "source": [
    "# creating second object of a class\n",
    "stu2=Student()\n",
    "stu2.name=\"def\"\n",
    "stu2.rollno=\"2k19csun2000\"\n",
    "stu2.marks=250\n",
    "stu2.basic_profile()"
   ]
  },
  {
   "cell_type": "code",
   "execution_count": null,
   "metadata": {},
   "outputs": [],
   "source": [
    "#Q1: Write a Python program that create a class triangle and define two methods, \n",
    "#create_triangle() and print_sides()."
   ]
  },
  {
   "cell_type": "code",
   "execution_count": null,
   "metadata": {},
   "outputs": [],
   "source": [
    "class Triangle:\n",
    "    a=0\n",
    "    b=0\n",
    "    def create_triangle(self, side1, side2):\n",
    "        a=side1\n",
    "        b=side2\n",
    "        #print(a)\n",
    "    def print_sides(self):\n",
    "        print(self.a)\n",
    "        print(self.b)\n",
    "                \n",
    "ob1=Triangle()\n",
    "ob1.create_triangle(10,20)\n",
    "ob1.print_sides()\n",
    "\n",
    "#the result is showing a,b,c=0 as the variables of the class is 0        "
   ]
  },
  {
   "cell_type": "code",
   "execution_count": null,
   "metadata": {},
   "outputs": [],
   "source": [
    "#to solve the above problem\n",
    "class Triangle:\n",
    "    a=0\n",
    "    b=0\n",
    "    c=0\n",
    "    def create_triangle(self, side1, side2, side3):\n",
    "        self.a=side1\n",
    "        self.b=side2\n",
    "        self.c=side3\n",
    "                \n",
    "    def print_sides(self):\n",
    "        print (self.a)\n",
    "        print(self.b)\n",
    "        print(self.c)\n",
    "        \n",
    "ob1=Triangle()\n",
    "ob1.create_triangle(10,20,30)\n",
    "ob1.print_sides()\n",
    "\n",
    "# we use self keyword to change variable values of the class"
   ]
  },
  {
   "cell_type": "code",
   "execution_count": null,
   "metadata": {},
   "outputs": [],
   "source": [
    "# cretae a class Rectangle and print the perimeter of the same\n",
    "class Rectangle:\n",
    "    length=0.0\n",
    "    width=0.0\n",
    "    per=0.0\n",
    "    def rect_values(self, l, w):\n",
    "        self.length=l\n",
    "        self.width=w\n",
    "    def perimeter(self):\n",
    "    \n",
    "        self.per=2*self.length*self.width\n",
    "        return(self.per)\n",
    "    \n",
    "r1= Rectangle()\n",
    "r1.rect_values(10,20)\n",
    "k=r1.perimeter()\n",
    "print(\"the perimeter of rectangle is\",k)\n"
   ]
  },
  {
   "cell_type": "code",
   "execution_count": null,
   "metadata": {},
   "outputs": [],
   "source": [
    "#creating constructor\n",
    "class Circle:\n",
    "    rad=0.0\n",
    "    def __init__ (self,r): \n",
    "        self.rad=r\n",
    "    def __init__(self):\n",
    "        self.rad=10.0\n",
    "        \n",
    "    def area(self):\n",
    "        return(3.14*self.rad*self.rad)\n",
    "    def perimeter(self):\n",
    "        return(2*3.14*self.rad)\n",
    "ob1= Circle(1.5)\n",
    "print(\"the area of circle is\" ,ob1.area())\n",
    "print(\"the perimeter of circle is \",ob1.perimeter())"
   ]
  }
 ],
 "metadata": {
  "kernelspec": {
   "display_name": "Python 3",
   "language": "python",
   "name": "python3"
  },
  "language_info": {
   "codemirror_mode": {
    "name": "ipython",
    "version": 3
   },
   "file_extension": ".py",
   "mimetype": "text/x-python",
   "name": "python",
   "nbconvert_exporter": "python",
   "pygments_lexer": "ipython3",
   "version": "3.7.7"
  }
 },
 "nbformat": 4,
 "nbformat_minor": 4
}
