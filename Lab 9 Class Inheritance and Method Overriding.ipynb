{
 "cells": [
  {
   "cell_type": "markdown",
   "metadata": {},
   "source": [
    "### Lab 9 Class Inheritance and Method Overriding\n",
    "Students are advised to implement lab manual exercise after understanding the concept taught in this worksheet"
   ]
  },
  {
   "cell_type": "code",
   "execution_count": 3,
   "metadata": {},
   "outputs": [
    {
     "name": "stdout",
     "output_type": "stream",
     "text": [
      "abc\n"
     ]
    }
   ],
   "source": [
    "#simple inheritance\n",
    "# note: initialize the variable as empty for best practice\n",
    "\n",
    "class Person:\n",
    "    person_name=\"\"\n",
    "    employee_name=\"\"\n",
    "    def disp_person(self):\n",
    "        print(self.person_name)\n",
    "# do not forget to write in argument of child class\n",
    "class Employee:\n",
    "    def disp_employee(self):\n",
    "        print(self.employee_name)\n",
    "emp1=Employee()\n",
    "emp1.person_name=\"par\"\n",
    "emp1.employee_name=\"abc\"\n",
    "emp1.disp_employee()\n",
    "   "
   ]
  },
  {
   "cell_type": "code",
   "execution_count": null,
   "metadata": {},
   "outputs": [],
   "source": [
    "# print values of the function using object\n",
    "emp1.disp_employee()"
   ]
  },
  {
   "cell_type": "code",
   "execution_count": 7,
   "metadata": {},
   "outputs": [
    {
     "name": "stdout",
     "output_type": "stream",
     "text": [
      "post\n"
     ]
    }
   ],
   "source": [
    "# display variable of a class from object\n",
    "class A:\n",
    "    x=\"\"\n",
    "    def disp(self):\n",
    "        print(x)\n",
    "class B:\n",
    "    def prnt(self):\n",
    "        print(p)\n",
    "o=B()\n",
    "o.p=\"post\"\n",
    "print(o.p)"
   ]
  },
  {
   "cell_type": "code",
   "execution_count": null,
   "metadata": {},
   "outputs": [],
   "source": [
    "#multilevel inheritance\n",
    "\n",
    "class Person:\n",
    "    person_name=\"\"\n",
    "    employee_name=\"\"\n",
    "    teacher_name=\"\"\n",
    "    def disp_person(self):\n",
    "        print(self.person_name)\n",
    "# do not forget to write in argument of child class\n",
    "class Employee(Person):\n",
    "    def disp_employee(self):\n",
    "        print(self.employee_name)\n",
    "class Teacher(Employee):\n",
    "    def disp_teacher(self):\n",
    "        print(self.teacher_name)\n",
    "ob1=Teacher()\n",
    "ob1.person_name=\"person1\"\n",
    "ob1.employee_name=\"employee1\"\n",
    "ob1.teacher_name=\"teacher1\"\n",
    "ob1.disp_person()"
   ]
  },
  {
   "cell_type": "code",
   "execution_count": null,
   "metadata": {},
   "outputs": [],
   "source": [
    "# hierarical inheritance\n",
    "class Person:\n",
    "    person_name=\"\"\n",
    "    member_name=\"\"\n",
    "    def disp_person(self):\n",
    "        print(self.person_name)\n",
    "# do not forget to write in argument of child class\n",
    "class Employee(Person):\n",
    "    def disp_member(self):\n",
    "        print(self.member_name)\n",
    "class Student(Person):\n",
    "    def disp_member(self):\n",
    "        print(self.member_name)\n",
    "emp1=Employee()\n",
    "emp1.person_name=\"par\"\n",
    "emp1.member_name=\"abc_emp\"\n",
    "emp1.disp_person()"
   ]
  },
  {
   "cell_type": "code",
   "execution_count": null,
   "metadata": {},
   "outputs": [],
   "source": [
    "emp1.disp_member()"
   ]
  },
  {
   "cell_type": "code",
   "execution_count": null,
   "metadata": {},
   "outputs": [],
   "source": [
    "stu1=Student()\n",
    "stu1.person_name=\"par\"\n",
    "stu1.member_name=\"def_stu\"\n",
    "stu1.disp_person()"
   ]
  },
  {
   "cell_type": "code",
   "execution_count": null,
   "metadata": {},
   "outputs": [],
   "source": [
    "stu1.disp_member()"
   ]
  },
  {
   "cell_type": "code",
   "execution_count": null,
   "metadata": {},
   "outputs": [],
   "source": [
    "# multiple level inheritance\n",
    "class A:\n",
    "    A_name=\"\"\n",
    "    def disp_A(self):\n",
    "        print(self.person_name)\n",
    "\n",
    "class B:\n",
    "    B_name:\"\"\n",
    "    def disp_B(self):\n",
    "        print(self.member_name)\n",
    "        \n",
    "class C(A,B):\n",
    "    def disp_C(self):\n",
    "        print(self.A_name, self.B_name)\n",
    "ob1=C()\n",
    "ob1.A_name=\"a\"\n",
    "ob1.B_name=\"b\"\n",
    "ob1.disp_C()"
   ]
  },
  {
   "cell_type": "code",
   "execution_count": null,
   "metadata": {},
   "outputs": [],
   "source": [
    "#inheritance using constructor\n",
    "# user __init__ function to create a constructor\n",
    "# self is used similar to 'this' java operator in Python \n",
    "#to represent linking of variables with an object\n",
    "\n",
    "class Base:\n",
    "    def __init__(self,name):\n",
    "        self.name=name\n",
    "\n",
    "class Derived(Base):\n",
    "    def __init__(self,name, roll_no):\n",
    "        Base.__init__(self,name)\n",
    "        self. roll_no=roll_no\n",
    "ob1=Derived(\"xyz\",24)\n",
    "print(ob1.roll_no, ob1.name)"
   ]
  }
 ],
 "metadata": {
  "kernelspec": {
   "display_name": "Python 3",
   "language": "python",
   "name": "python3"
  },
  "language_info": {
   "codemirror_mode": {
    "name": "ipython",
    "version": 3
   },
   "file_extension": ".py",
   "mimetype": "text/x-python",
   "name": "python",
   "nbconvert_exporter": "python",
   "pygments_lexer": "ipython3",
   "version": "3.7.7"
  }
 },
 "nbformat": 4,
 "nbformat_minor": 4
}
