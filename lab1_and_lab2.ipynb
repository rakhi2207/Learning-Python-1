{
 "cells": [
  {
   "cell_type": "code",
   "execution_count": 1,
   "metadata": {},
   "outputs": [
    {
     "name": "stdout",
     "output_type": "stream",
     "text": [
      "Hello world\n"
     ]
    }
   ],
   "source": [
    "#1\n",
    "print(\"Hello world\")"
   ]
  },
  {
   "cell_type": "code",
   "execution_count": 46,
   "metadata": {},
   "outputs": [
    {
     "name": "stdout",
     "output_type": "stream",
     "text": [
      "Enter the number 9\n",
      "9  is odd\n"
     ]
    }
   ],
   "source": [
    "#2\n",
    "num=int(input(\"Enter the number \"))\n",
    "if(num%2==0):\n",
    "    print(num,\" is even\")\n",
    "else:\n",
    "    print(num,\" is odd\")"
   ]
  },
  {
   "cell_type": "code",
   "execution_count": 23,
   "metadata": {},
   "outputs": [
    {
     "name": "stdout",
     "output_type": "stream",
     "text": [
      "Enter the year 1964\n",
      "1964  is a leap year\n"
     ]
    }
   ],
   "source": [
    "#3\n",
    "year=int(input(\"Enter the year \"))\n",
    "leap_check=\"false\";\n",
    "if(year%4==0):\n",
    "    if(year%100==0):\n",
    "        if(year%400==0):\n",
    "            leap_check=\"true\"\n",
    "        else:\n",
    "            leap_check=\"false\"\n",
    "    else:\n",
    "        leap_check=\"true\"\n",
    "else:\n",
    "    leap_check=\"false\"\n",
    "    \n",
    "if(leap_check==\"true\"):\n",
    "    print(year,\" is a leap year\")\n",
    "else:\n",
    "    print(year,\" is not a leap year\")"
   ]
  },
  {
   "cell_type": "code",
   "execution_count": 29,
   "metadata": {},
   "outputs": [
    {
     "name": "stdout",
     "output_type": "stream",
     "text": [
      "Enter a character q\n",
      "q  is a consonant\n"
     ]
    }
   ],
   "source": [
    "#4\n",
    "character=input(\"Enter a character \")\n",
    "if(character=='a'or character=='e'or character=='i'or character=='o'or character=='u'):\n",
    "    print(character,\" is a vowel\")\n",
    "else:\n",
    "    print(character,\" is a consonant\")"
   ]
  },
  {
   "cell_type": "code",
   "execution_count": 31,
   "metadata": {},
   "outputs": [
    {
     "name": "stdout",
     "output_type": "stream",
     "text": [
      "Enter the first no 4\n",
      "Enter the second no 1\n",
      "1  is smaller than  4\n"
     ]
    }
   ],
   "source": [
    "#5\n",
    "num1=int(input(\"Enter the first no \"))\n",
    "num2=int(input(\"Enter the second no \"))\n",
    "if(num1>num2):\n",
    "    print(num2,\" is smaller than \",num1)\n",
    "else:\n",
    "    print(num1,\" is smaller than \",num2)"
   ]
  },
  {
   "cell_type": "code",
   "execution_count": 47,
   "metadata": {},
   "outputs": [
    {
     "name": "stdout",
     "output_type": "stream",
     "text": [
      "Enter a number 6\n",
      "Factorial of  6  is  720\n"
     ]
    }
   ],
   "source": [
    "#6\n",
    "num=int(input(\"Enter a number \"))\n",
    "fact=1;\n",
    "for i in range(2,num+1):\n",
    "    fact=fact*i\n",
    "\n",
    "print(\"Factorial of \",num,\" is \",fact)"
   ]
  },
  {
   "cell_type": "code",
   "execution_count": 45,
   "metadata": {},
   "outputs": [
    {
     "name": "stdout",
     "output_type": "stream",
     "text": [
      "Enter no of rows 6\n",
      "     * \n",
      "    * * \n",
      "   * * * \n",
      "  * * * * \n",
      " * * * * * \n",
      "* * * * * * \n"
     ]
    }
   ],
   "source": [
    "#7\n",
    "row=int(input(\"Enter no of rows \"))\n",
    "for i in range(1,row+1):\n",
    "    for j in range(row):\n",
    "        if(j<row-i):\n",
    "            print(\"\",end=\" \")\n",
    "        else:\n",
    "            print(\"*\",end=\" \")\n",
    "    print()\n",
    "            "
   ]
  },
  {
   "cell_type": "code",
   "execution_count": 40,
   "metadata": {},
   "outputs": [
    {
     "name": "stdout",
     "output_type": "stream",
     "text": [
      "Enter the no of terms 7\n",
      "1 1 2 3 5 8 13 "
     ]
    }
   ],
   "source": [
    "#8\n",
    "no_of_terms=int(input(\"Enter the no of terms \"))\n",
    "first=1;\n",
    "second=1;\n",
    "if(no_of_terms==1):\n",
    "    print(first)\n",
    "elif(no_of_terms==2):\n",
    "    print(first,\" \",second)\n",
    "else:\n",
    "    print(first,second,end=\" \")\n",
    "    for i in range(3,no_of_terms+1):\n",
    "        sum=first+second\n",
    "        print(sum,end=\" \")\n",
    "        first=second\n",
    "        second=sum"
   ]
  },
  {
   "cell_type": "code",
   "execution_count": 44,
   "metadata": {},
   "outputs": [
    {
     "name": "stdout",
     "output_type": "stream",
     "text": [
      "Enter a no 30\n",
      "30  is not a prime number\n"
     ]
    }
   ],
   "source": [
    "#9\n",
    "num=int(input(\"Enter a no \"))\n",
    "prime_check=\"true\"\n",
    "for i in range(2,num):\n",
    "    if(num%i==0):\n",
    "        prime_check=\"false\"\n",
    "        break\n",
    "        \n",
    "if(prime_check==\"true\"):\n",
    "    print(num,\" is a prime number\")\n",
    "else:\n",
    "    print(num,\" is not a prime number\")"
   ]
  },
  {
   "cell_type": "code",
   "execution_count": 2,
   "metadata": {},
   "outputs": [
    {
     "name": "stdout",
     "output_type": "stream",
     "text": [
      "Enter the first no 4\n",
      "Enter the second no 5\n",
      "Enter the operator *\n",
      "20\n",
      "Do you want to continue or not continue\n",
      "Enter the first no 9\n",
      "Enter the second no 7\n",
      "Enter the operator /\n",
      "1.2857142857142858\n",
      "Do you want to continue or not stop\n"
     ]
    }
   ],
   "source": [
    "#10\n",
    "more=\"continue\"\n",
    "while more==\"continue\":\n",
    "    num1=int(input(\"Enter the first no \"))\n",
    "    num2=int(input(\"Enter the second no \"))\n",
    "    operator=input(\"Enter the operator \")\n",
    "    if operator==\"+\":\n",
    "        print(num1+num2)\n",
    "    elif operator==\"-\":\n",
    "        if num1>num2:\n",
    "            print(num1-num2)\n",
    "        else:\n",
    "            print(num2-num1)\n",
    "    elif operator==\"*\":\n",
    "        print(num1*num2)\n",
    "    elif operator==\"/\":\n",
    "        print(num1/num2)\n",
    "    else:\n",
    "        print(\"please enter +,-,*,/\")\n",
    "    \n",
    "    more=input(\"Do you want to continue or not \")\n",
    "        \n"
   ]
  },
  {
   "cell_type": "code",
   "execution_count": null,
   "metadata": {},
   "outputs": [],
   "source": []
  }
 ],
 "metadata": {
  "kernelspec": {
   "display_name": "Python 3",
   "language": "python",
   "name": "python3"
  },
  "language_info": {
   "codemirror_mode": {
    "name": "ipython",
    "version": 3
   },
   "file_extension": ".py",
   "mimetype": "text/x-python",
   "name": "python",
   "nbconvert_exporter": "python",
   "pygments_lexer": "ipython3",
   "version": "3.8.5"
  }
 },
 "nbformat": 4,
 "nbformat_minor": 4
}
